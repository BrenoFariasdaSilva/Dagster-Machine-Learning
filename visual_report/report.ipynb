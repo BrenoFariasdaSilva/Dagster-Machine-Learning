{
 "cells": [
  {
   "cell_type": "code",
   "execution_count": 24,
   "metadata": {},
   "outputs": [],
   "source": [
    "import os\n",
    "import sys\n",
    "import joblib\n",
    "from sklearn.ensemble import RandomForestClassifier\n",
    "# os.path.abspath(os.path.join(os.path.dirname(__file__), '..')) #__file__ doe snot exist for notebooks\n"
   ]
  },
  {
   "cell_type": "code",
   "execution_count": 10,
   "metadata": {},
   "outputs": [
    {
     "data": {
      "text/plain": [
       "['/Users/urdoom/dagraytorcker',\n",
       " '/Users/urdoom/dagraytorcker/visual_report',\n",
       " '/usr/local/Cellar/python@3.7/3.7.9_2/Frameworks/Python.framework/Versions/3.7/lib/python37.zip',\n",
       " '/usr/local/Cellar/python@3.7/3.7.9_2/Frameworks/Python.framework/Versions/3.7/lib/python3.7',\n",
       " '/usr/local/Cellar/python@3.7/3.7.9_2/Frameworks/Python.framework/Versions/3.7/lib/python3.7/lib-dynload',\n",
       " '',\n",
       " '/usr/local/lib/python3.7/site-packages',\n",
       " '/usr/local/lib/python3.7/site-packages/IPython/extensions',\n",
       " '/Users/urdoom/.ipython']"
      ]
     },
     "execution_count": 10,
     "metadata": {},
     "output_type": "execute_result"
    }
   ],
   "source": [
    "# sys.path.insert(0, os.path.abspath('..')) #'/Users/urdoom/dagraytorcker'\n",
    "sys.path"
   ]
  },
  {
   "cell_type": "code",
   "execution_count": 104,
   "metadata": {},
   "outputs": [
    {
     "name": "stdout",
     "output_type": "stream",
     "text": [
      "<class 'numpy.matrix'> <class 'pandas.core.series.Series'>\n",
      "<class 'numpy.matrix'> <class 'pandas.core.series.Series'>\n"
     ]
    }
   ],
   "source": [
    "training = joblib.load('../data/processed/training_data.pkl')\n",
    "testing = joblib.load('../data/processed/testing_data.pkl')\n",
    "x_train = training[0];y_train = training[1]\n",
    "x_test = testing[0]; y_test = testing[1]\n",
    "print(type(x_train),type(y_train))\n",
    "print(type(x_test), type(y_test))"
   ]
  },
  {
   "cell_type": "code",
   "execution_count": 72,
   "metadata": {},
   "outputs": [
    {
     "data": {
      "text/plain": [
       "GridSearchCV(estimator=RandomForestClassifier(),\n",
       "             param_grid={'max_depth': [1, 2], 'max_features': ['auto'],\n",
       "                         'n_estimators': [5, 10]})"
      ]
     },
     "execution_count": 72,
     "metadata": {},
     "output_type": "execute_result"
    }
   ],
   "source": [
    "#import grid\n",
    "grid = joblib.load('../models/RandomForestClassifier.pkl')\n",
    "grid"
   ]
  },
  {
   "cell_type": "code",
   "execution_count": 79,
   "metadata": {},
   "outputs": [
    {
     "data": {
      "text/plain": [
       "RandomForestClassifier()"
      ]
     },
     "execution_count": 79,
     "metadata": {},
     "output_type": "execute_result"
    }
   ],
   "source": [
    "# #get the base model from the grid _> not needed: best_estimatros already applies params to specified model in grid\n",
    "# model = grid.estimator #similar to model = RandomForestClassifier(random_state=30)\n",
    "# model"
   ]
  },
  {
   "cell_type": "code",
   "execution_count": 73,
   "metadata": {},
   "outputs": [
    {
     "data": {
      "text/plain": [
       "{'max_depth': 2, 'max_features': 'auto', 'n_estimators': 5}"
      ]
     },
     "execution_count": 73,
     "metadata": {},
     "output_type": "execute_result"
    }
   ],
   "source": [
    "search = grid.fit(x_train, y_train)\n",
    "search.best_params_"
   ]
  },
  {
   "cell_type": "code",
   "execution_count": 81,
   "metadata": {
    "collapsed": true,
    "jupyter": {
     "outputs_hidden": true
    }
   },
   "outputs": [
    {
     "name": "stdout",
     "output_type": "stream",
     "text": [
      "RandomForestClassifier(max_depth=2, n_estimators=5)\n"
     ]
    },
    {
     "data": {
      "text/plain": [
       "{'bootstrap': True,\n",
       " 'ccp_alpha': 0.0,\n",
       " 'class_weight': None,\n",
       " 'criterion': 'gini',\n",
       " 'max_depth': 2,\n",
       " 'max_features': 'auto',\n",
       " 'max_leaf_nodes': None,\n",
       " 'max_samples': None,\n",
       " 'min_impurity_decrease': 0.0,\n",
       " 'min_impurity_split': None,\n",
       " 'min_samples_leaf': 1,\n",
       " 'min_samples_split': 2,\n",
       " 'min_weight_fraction_leaf': 0.0,\n",
       " 'n_estimators': 5,\n",
       " 'n_jobs': None,\n",
       " 'oob_score': False,\n",
       " 'random_state': None,\n",
       " 'verbose': 0,\n",
       " 'warm_start': False}"
      ]
     },
     "execution_count": 81,
     "metadata": {},
     "output_type": "execute_result"
    }
   ],
   "source": [
    "#set the new model with the best parameters\n",
    "new_model = search.best_estimator_ # or new_model.set_params(**search.best_params_)\n",
    "print(new_model)\n",
    "new_model.get_params()"
   ]
  },
  {
   "cell_type": "code",
   "execution_count": 103,
   "metadata": {},
   "outputs": [
    {
     "name": "stdout",
     "output_type": "stream",
     "text": [
      "[DecisionTreeClassifier(max_depth=2, max_features='auto', random_state=326971157), DecisionTreeClassifier(max_depth=2, max_features='auto',\n",
      "                       random_state=1687216953), DecisionTreeClassifier(max_depth=2, max_features='auto', random_state=789133897), DecisionTreeClassifier(max_depth=2, max_features='auto',\n",
      "                       random_state=1637883360), DecisionTreeClassifier(max_depth=2, max_features='auto',\n",
      "                       random_state=1773149634)]\n",
      "<method-wrapper '__eq__' of RandomForestClassifier object at 0x12c108550>\n"
     ]
    },
    {
     "data": {
      "text/plain": [
       "'RandomForestClassifier'"
      ]
     },
     "execution_count": 103,
     "metadata": {},
     "output_type": "execute_result"
    }
   ],
   "source": [
    "trained_model = new_model.fit(x_train, y_train)\n",
    "print(trained_model.estimators_)\n",
    "print(trained_model.__eq__)\n",
    "str(model.__eq__).split(' ')[3]"
   ]
  },
  {
   "cell_type": "code",
   "execution_count": 87,
   "metadata": {
    "collapsed": true,
    "jupyter": {
     "outputs_hidden": true
    }
   },
   "outputs": [
    {
     "data": {
      "text/plain": [
       "[('__abstractmethods__', frozenset()),\n",
       " ('__annotations__', {'_required_parameters': typing.List[str]}),\n",
       " ('__class__', sklearn.ensemble._forest.RandomForestClassifier),\n",
       " ('__delattr__',\n",
       "  <method-wrapper '__delattr__' of RandomForestClassifier object at 0x12c108550>),\n",
       " ('__dict__',\n",
       "  {'base_estimator': DecisionTreeClassifier(),\n",
       "   'n_estimators': 5,\n",
       "   'estimator_params': ('criterion',\n",
       "    'max_depth',\n",
       "    'min_samples_split',\n",
       "    'min_samples_leaf',\n",
       "    'min_weight_fraction_leaf',\n",
       "    'max_features',\n",
       "    'max_leaf_nodes',\n",
       "    'min_impurity_decrease',\n",
       "    'min_impurity_split',\n",
       "    'random_state',\n",
       "    'ccp_alpha'),\n",
       "   'bootstrap': True,\n",
       "   'oob_score': False,\n",
       "   'n_jobs': None,\n",
       "   'random_state': None,\n",
       "   'verbose': 0,\n",
       "   'warm_start': False,\n",
       "   'class_weight': None,\n",
       "   'max_samples': None,\n",
       "   'criterion': 'gini',\n",
       "   'max_depth': 2,\n",
       "   'min_samples_split': 2,\n",
       "   'min_samples_leaf': 1,\n",
       "   'min_weight_fraction_leaf': 0.0,\n",
       "   'max_features': 'auto',\n",
       "   'max_leaf_nodes': None,\n",
       "   'min_impurity_decrease': 0.0,\n",
       "   'min_impurity_split': None,\n",
       "   'ccp_alpha': 0.0,\n",
       "   'n_features_in_': 6401,\n",
       "   'n_features_': 6401,\n",
       "   'n_outputs_': 1,\n",
       "   'classes_': array([0, 1]),\n",
       "   'n_classes_': 2,\n",
       "   'base_estimator_': DecisionTreeClassifier(),\n",
       "   'estimators_': [DecisionTreeClassifier(max_depth=2, max_features='auto',\n",
       "                           random_state=1300910073),\n",
       "    DecisionTreeClassifier(max_depth=2, max_features='auto', random_state=944781607),\n",
       "    DecisionTreeClassifier(max_depth=2, max_features='auto',\n",
       "                           random_state=1451391581),\n",
       "    DecisionTreeClassifier(max_depth=2, max_features='auto',\n",
       "                           random_state=2140591539),\n",
       "    DecisionTreeClassifier(max_depth=2, max_features='auto',\n",
       "                           random_state=1060904605)]}),\n",
       " ('__dir__', <function RandomForestClassifier.__dir__()>),\n",
       " ('__doc__',\n",
       "  '\\n    A random forest classifier.\\n\\n    A random forest is a meta estimator that fits a number of decision tree\\n    classifiers on various sub-samples of the dataset and uses averaging to\\n    improve the predictive accuracy and control over-fitting.\\n    The sub-sample size is controlled with the `max_samples` parameter if\\n    `bootstrap=True` (default), otherwise the whole dataset is used to build\\n    each tree.\\n\\n    Read more in the :ref:`User Guide <forest>`.\\n\\n    Parameters\\n    ----------\\n    n_estimators : int, default=100\\n        The number of trees in the forest.\\n\\n        .. versionchanged:: 0.22\\n           The default value of ``n_estimators`` changed from 10 to 100\\n           in 0.22.\\n\\n    criterion : {\"gini\", \"entropy\"}, default=\"gini\"\\n        The function to measure the quality of a split. Supported criteria are\\n        \"gini\" for the Gini impurity and \"entropy\" for the information gain.\\n        Note: this parameter is tree-specific.\\n\\n    max_depth : int, default=None\\n        The maximum depth of the tree. If None, then nodes are expanded until\\n        all leaves are pure or until all leaves contain less than\\n        min_samples_split samples.\\n\\n    min_samples_split : int or float, default=2\\n        The minimum number of samples required to split an internal node:\\n\\n        - If int, then consider `min_samples_split` as the minimum number.\\n        - If float, then `min_samples_split` is a fraction and\\n          `ceil(min_samples_split * n_samples)` are the minimum\\n          number of samples for each split.\\n\\n        .. versionchanged:: 0.18\\n           Added float values for fractions.\\n\\n    min_samples_leaf : int or float, default=1\\n        The minimum number of samples required to be at a leaf node.\\n        A split point at any depth will only be considered if it leaves at\\n        least ``min_samples_leaf`` training samples in each of the left and\\n        right branches.  This may have the effect of smoothing the model,\\n        especially in regression.\\n\\n        - If int, then consider `min_samples_leaf` as the minimum number.\\n        - If float, then `min_samples_leaf` is a fraction and\\n          `ceil(min_samples_leaf * n_samples)` are the minimum\\n          number of samples for each node.\\n\\n        .. versionchanged:: 0.18\\n           Added float values for fractions.\\n\\n    min_weight_fraction_leaf : float, default=0.0\\n        The minimum weighted fraction of the sum total of weights (of all\\n        the input samples) required to be at a leaf node. Samples have\\n        equal weight when sample_weight is not provided.\\n\\n    max_features : {\"auto\", \"sqrt\", \"log2\"}, int or float, default=\"auto\"\\n        The number of features to consider when looking for the best split:\\n\\n        - If int, then consider `max_features` features at each split.\\n        - If float, then `max_features` is a fraction and\\n          `int(max_features * n_features)` features are considered at each\\n          split.\\n        - If \"auto\", then `max_features=sqrt(n_features)`.\\n        - If \"sqrt\", then `max_features=sqrt(n_features)` (same as \"auto\").\\n        - If \"log2\", then `max_features=log2(n_features)`.\\n        - If None, then `max_features=n_features`.\\n\\n        Note: the search for a split does not stop until at least one\\n        valid partition of the node samples is found, even if it requires to\\n        effectively inspect more than ``max_features`` features.\\n\\n    max_leaf_nodes : int, default=None\\n        Grow trees with ``max_leaf_nodes`` in best-first fashion.\\n        Best nodes are defined as relative reduction in impurity.\\n        If None then unlimited number of leaf nodes.\\n\\n    min_impurity_decrease : float, default=0.0\\n        A node will be split if this split induces a decrease of the impurity\\n        greater than or equal to this value.\\n\\n        The weighted impurity decrease equation is the following::\\n\\n            N_t / N * (impurity - N_t_R / N_t * right_impurity\\n                                - N_t_L / N_t * left_impurity)\\n\\n        where ``N`` is the total number of samples, ``N_t`` is the number of\\n        samples at the current node, ``N_t_L`` is the number of samples in the\\n        left child, and ``N_t_R`` is the number of samples in the right child.\\n\\n        ``N``, ``N_t``, ``N_t_R`` and ``N_t_L`` all refer to the weighted sum,\\n        if ``sample_weight`` is passed.\\n\\n        .. versionadded:: 0.19\\n\\n    min_impurity_split : float, default=None\\n        Threshold for early stopping in tree growth. A node will split\\n        if its impurity is above the threshold, otherwise it is a leaf.\\n\\n        .. deprecated:: 0.19\\n           ``min_impurity_split`` has been deprecated in favor of\\n           ``min_impurity_decrease`` in 0.19. The default value of\\n           ``min_impurity_split`` has changed from 1e-7 to 0 in 0.23 and it\\n           will be removed in 0.25. Use ``min_impurity_decrease`` instead.\\n\\n\\n    bootstrap : bool, default=True\\n        Whether bootstrap samples are used when building trees. If False, the\\n        whole dataset is used to build each tree.\\n\\n    oob_score : bool, default=False\\n        Whether to use out-of-bag samples to estimate\\n        the generalization accuracy.\\n\\n    n_jobs : int, default=None\\n        The number of jobs to run in parallel. :meth:`fit`, :meth:`predict`,\\n        :meth:`decision_path` and :meth:`apply` are all parallelized over the\\n        trees. ``None`` means 1 unless in a :obj:`joblib.parallel_backend`\\n        context. ``-1`` means using all processors. See :term:`Glossary\\n        <n_jobs>` for more details.\\n\\n    random_state : int or RandomState, default=None\\n        Controls both the randomness of the bootstrapping of the samples used\\n        when building trees (if ``bootstrap=True``) and the sampling of the\\n        features to consider when looking for the best split at each node\\n        (if ``max_features < n_features``).\\n        See :term:`Glossary <random_state>` for details.\\n\\n    verbose : int, default=0\\n        Controls the verbosity when fitting and predicting.\\n\\n    warm_start : bool, default=False\\n        When set to ``True``, reuse the solution of the previous call to fit\\n        and add more estimators to the ensemble, otherwise, just fit a whole\\n        new forest. See :term:`the Glossary <warm_start>`.\\n\\n    class_weight : {\"balanced\", \"balanced_subsample\"}, dict or list of dicts,             default=None\\n        Weights associated with classes in the form ``{class_label: weight}``.\\n        If not given, all classes are supposed to have weight one. For\\n        multi-output problems, a list of dicts can be provided in the same\\n        order as the columns of y.\\n\\n        Note that for multioutput (including multilabel) weights should be\\n        defined for each class of every column in its own dict. For example,\\n        for four-class multilabel classification weights should be\\n        [{0: 1, 1: 1}, {0: 1, 1: 5}, {0: 1, 1: 1}, {0: 1, 1: 1}] instead of\\n        [{1:1}, {2:5}, {3:1}, {4:1}].\\n\\n        The \"balanced\" mode uses the values of y to automatically adjust\\n        weights inversely proportional to class frequencies in the input data\\n        as ``n_samples / (n_classes * np.bincount(y))``\\n\\n        The \"balanced_subsample\" mode is the same as \"balanced\" except that\\n        weights are computed based on the bootstrap sample for every tree\\n        grown.\\n\\n        For multi-output, the weights of each column of y will be multiplied.\\n\\n        Note that these weights will be multiplied with sample_weight (passed\\n        through the fit method) if sample_weight is specified.\\n\\n    ccp_alpha : non-negative float, default=0.0\\n        Complexity parameter used for Minimal Cost-Complexity Pruning. The\\n        subtree with the largest cost complexity that is smaller than\\n        ``ccp_alpha`` will be chosen. By default, no pruning is performed. See\\n        :ref:`minimal_cost_complexity_pruning` for details.\\n\\n        .. versionadded:: 0.22\\n\\n    max_samples : int or float, default=None\\n        If bootstrap is True, the number of samples to draw from X\\n        to train each base estimator.\\n\\n        - If None (default), then draw `X.shape[0]` samples.\\n        - If int, then draw `max_samples` samples.\\n        - If float, then draw `max_samples * X.shape[0]` samples. Thus,\\n          `max_samples` should be in the interval `(0, 1)`.\\n\\n        .. versionadded:: 0.22\\n\\n    Attributes\\n    ----------\\n    base_estimator_ : DecisionTreeClassifier\\n        The child estimator template used to create the collection of fitted\\n        sub-estimators.\\n\\n    estimators_ : list of DecisionTreeClassifier\\n        The collection of fitted sub-estimators.\\n\\n    classes_ : ndarray of shape (n_classes,) or a list of such arrays\\n        The classes labels (single output problem), or a list of arrays of\\n        class labels (multi-output problem).\\n\\n    n_classes_ : int or list\\n        The number of classes (single output problem), or a list containing the\\n        number of classes for each output (multi-output problem).\\n\\n    n_features_ : int\\n        The number of features when ``fit`` is performed.\\n\\n    n_outputs_ : int\\n        The number of outputs when ``fit`` is performed.\\n\\n    feature_importances_ : ndarray of shape (n_features,)\\n        The impurity-based feature importances.\\n        The higher, the more important the feature.\\n        The importance of a feature is computed as the (normalized)\\n        total reduction of the criterion brought by that feature.  It is also\\n        known as the Gini importance.\\n\\n        Warning: impurity-based feature importances can be misleading for\\n        high cardinality features (many unique values). See\\n        :func:`sklearn.inspection.permutation_importance` as an alternative.\\n\\n    oob_score_ : float\\n        Score of the training dataset obtained using an out-of-bag estimate.\\n        This attribute exists only when ``oob_score`` is True.\\n\\n    oob_decision_function_ : ndarray of shape (n_samples, n_classes)\\n        Decision function computed with out-of-bag estimate on the training\\n        set. If n_estimators is small it might be possible that a data point\\n        was never left out during the bootstrap. In this case,\\n        `oob_decision_function_` might contain NaN. This attribute exists\\n        only when ``oob_score`` is True.\\n\\n    See Also\\n    --------\\n    DecisionTreeClassifier, ExtraTreesClassifier\\n\\n    Notes\\n    -----\\n    The default values for the parameters controlling the size of the trees\\n    (e.g. ``max_depth``, ``min_samples_leaf``, etc.) lead to fully grown and\\n    unpruned trees which can potentially be very large on some data sets. To\\n    reduce memory consumption, the complexity and size of the trees should be\\n    controlled by setting those parameter values.\\n\\n    The features are always randomly permuted at each split. Therefore,\\n    the best found split may vary, even with the same training data,\\n    ``max_features=n_features`` and ``bootstrap=False``, if the improvement\\n    of the criterion is identical for several splits enumerated during the\\n    search of the best split. To obtain a deterministic behaviour during\\n    fitting, ``random_state`` has to be fixed.\\n\\n    References\\n    ----------\\n    .. [1] L. Breiman, \"Random Forests\", Machine Learning, 45(1), 5-32, 2001.\\n\\n    Examples\\n    --------\\n    >>> from sklearn.ensemble import RandomForestClassifier\\n    >>> from sklearn.datasets import make_classification\\n    >>> X, y = make_classification(n_samples=1000, n_features=4,\\n    ...                            n_informative=2, n_redundant=0,\\n    ...                            random_state=0, shuffle=False)\\n    >>> clf = RandomForestClassifier(max_depth=2, random_state=0)\\n    >>> clf.fit(X, y)\\n    RandomForestClassifier(...)\\n    >>> print(clf.predict([[0, 0, 0, 0]]))\\n    [1]\\n    '),\n",
       " ('__eq__',\n",
       "  <method-wrapper '__eq__' of RandomForestClassifier object at 0x12c108550>),\n",
       " ('__format__', <function RandomForestClassifier.__format__(format_spec, /)>),\n",
       " ('__ge__',\n",
       "  <method-wrapper '__ge__' of RandomForestClassifier object at 0x12c108550>),\n",
       " ('__getattribute__',\n",
       "  <method-wrapper '__getattribute__' of RandomForestClassifier object at 0x12c108550>),\n",
       " ('__getitem__',\n",
       "  <bound method BaseEnsemble.__getitem__ of RandomForestClassifier(max_depth=2, n_estimators=5)>),\n",
       " ('__getstate__',\n",
       "  <bound method BaseEstimator.__getstate__ of RandomForestClassifier(max_depth=2, n_estimators=5)>),\n",
       " ('__gt__',\n",
       "  <method-wrapper '__gt__' of RandomForestClassifier object at 0x12c108550>),\n",
       " ('__hash__',\n",
       "  <method-wrapper '__hash__' of RandomForestClassifier object at 0x12c108550>),\n",
       " ('__init__',\n",
       "  <bound method RandomForestClassifier.__init__ of RandomForestClassifier(max_depth=2, n_estimators=5)>),\n",
       " ('__init_subclass__', <function RandomForestClassifier.__init_subclass__>),\n",
       " ('__iter__',\n",
       "  <bound method BaseEnsemble.__iter__ of RandomForestClassifier(max_depth=2, n_estimators=5)>),\n",
       " ('__le__',\n",
       "  <method-wrapper '__le__' of RandomForestClassifier object at 0x12c108550>),\n",
       " ('__len__',\n",
       "  <bound method BaseEnsemble.__len__ of RandomForestClassifier(max_depth=2, n_estimators=5)>),\n",
       " ('__lt__',\n",
       "  <method-wrapper '__lt__' of RandomForestClassifier object at 0x12c108550>),\n",
       " ('__module__', 'sklearn.ensemble._forest'),\n",
       " ('__ne__',\n",
       "  <method-wrapper '__ne__' of RandomForestClassifier object at 0x12c108550>),\n",
       " ('__new__', <function object.__new__(*args, **kwargs)>),\n",
       " ('__reduce__', <function RandomForestClassifier.__reduce__()>),\n",
       " ('__reduce_ex__',\n",
       "  <function RandomForestClassifier.__reduce_ex__(protocol, /)>),\n",
       " ('__repr__',\n",
       "  <bound method BaseEstimator.__repr__ of RandomForestClassifier(max_depth=2, n_estimators=5)>),\n",
       " ('__setattr__',\n",
       "  <method-wrapper '__setattr__' of RandomForestClassifier object at 0x12c108550>),\n",
       " ('__setstate__',\n",
       "  <bound method BaseEstimator.__setstate__ of RandomForestClassifier(max_depth=2, n_estimators=5)>),\n",
       " ('__sizeof__', <function RandomForestClassifier.__sizeof__()>),\n",
       " ('__str__',\n",
       "  <method-wrapper '__str__' of RandomForestClassifier object at 0x12c108550>),\n",
       " ('__subclasshook__', <function RandomForestClassifier.__subclasshook__>),\n",
       " ('__weakref__', None),\n",
       " ('_abc_impl', <_abc_data at 0x12bbc00c0>),\n",
       " ('_check_n_features',\n",
       "  <bound method BaseEstimator._check_n_features of RandomForestClassifier(max_depth=2, n_estimators=5)>),\n",
       " ('_estimator_type', 'classifier'),\n",
       " ('_get_param_names',\n",
       "  <bound method BaseEstimator._get_param_names of <class 'sklearn.ensemble._forest.RandomForestClassifier'>>),\n",
       " ('_get_tags',\n",
       "  <bound method BaseEstimator._get_tags of RandomForestClassifier(max_depth=2, n_estimators=5)>),\n",
       " ('_make_estimator',\n",
       "  <bound method BaseEnsemble._make_estimator of RandomForestClassifier(max_depth=2, n_estimators=5)>),\n",
       " ('_more_tags',\n",
       "  <bound method ClassifierMixin._more_tags of RandomForestClassifier(max_depth=2, n_estimators=5)>),\n",
       " ('_repr_html_inner',\n",
       "  <bound method BaseEstimator._repr_html_inner of RandomForestClassifier(max_depth=2, n_estimators=5)>),\n",
       " ('_repr_mimebundle_',\n",
       "  <bound method BaseEstimator._repr_mimebundle_ of RandomForestClassifier(max_depth=2, n_estimators=5)>),\n",
       " ('_required_parameters', []),\n",
       " ('_set_oob_score',\n",
       "  <bound method ForestClassifier._set_oob_score of RandomForestClassifier(max_depth=2, n_estimators=5)>),\n",
       " ('_validate_X_predict',\n",
       "  <bound method BaseForest._validate_X_predict of RandomForestClassifier(max_depth=2, n_estimators=5)>),\n",
       " ('_validate_data',\n",
       "  <bound method BaseEstimator._validate_data of RandomForestClassifier(max_depth=2, n_estimators=5)>),\n",
       " ('_validate_estimator',\n",
       "  <bound method BaseEnsemble._validate_estimator of RandomForestClassifier(max_depth=2, n_estimators=5)>),\n",
       " ('_validate_y_class_weight',\n",
       "  <bound method ForestClassifier._validate_y_class_weight of RandomForestClassifier(max_depth=2, n_estimators=5)>),\n",
       " ('apply',\n",
       "  <bound method BaseForest.apply of RandomForestClassifier(max_depth=2, n_estimators=5)>),\n",
       " ('base_estimator', DecisionTreeClassifier()),\n",
       " ('base_estimator_', DecisionTreeClassifier()),\n",
       " ('bootstrap', True),\n",
       " ('ccp_alpha', 0.0),\n",
       " ('class_weight', None),\n",
       " ('classes_', array([0, 1])),\n",
       " ('criterion', 'gini'),\n",
       " ('decision_path',\n",
       "  <bound method BaseForest.decision_path of RandomForestClassifier(max_depth=2, n_estimators=5)>),\n",
       " ('estimator_params',\n",
       "  ('criterion',\n",
       "   'max_depth',\n",
       "   'min_samples_split',\n",
       "   'min_samples_leaf',\n",
       "   'min_weight_fraction_leaf',\n",
       "   'max_features',\n",
       "   'max_leaf_nodes',\n",
       "   'min_impurity_decrease',\n",
       "   'min_impurity_split',\n",
       "   'random_state',\n",
       "   'ccp_alpha')),\n",
       " ('estimators_',\n",
       "  [DecisionTreeClassifier(max_depth=2, max_features='auto',\n",
       "                          random_state=1300910073),\n",
       "   DecisionTreeClassifier(max_depth=2, max_features='auto', random_state=944781607),\n",
       "   DecisionTreeClassifier(max_depth=2, max_features='auto',\n",
       "                          random_state=1451391581),\n",
       "   DecisionTreeClassifier(max_depth=2, max_features='auto',\n",
       "                          random_state=2140591539),\n",
       "   DecisionTreeClassifier(max_depth=2, max_features='auto',\n",
       "                          random_state=1060904605)]),\n",
       " ('feature_importances_', array([0., 0., 0., ..., 0., 0., 0.])),\n",
       " ('fit',\n",
       "  <bound method BaseForest.fit of RandomForestClassifier(max_depth=2, n_estimators=5)>),\n",
       " ('get_params',\n",
       "  <bound method BaseEstimator.get_params of RandomForestClassifier(max_depth=2, n_estimators=5)>),\n",
       " ('max_depth', 2),\n",
       " ('max_features', 'auto'),\n",
       " ('max_leaf_nodes', None),\n",
       " ('max_samples', None),\n",
       " ('min_impurity_decrease', 0.0),\n",
       " ('min_impurity_split', None),\n",
       " ('min_samples_leaf', 1),\n",
       " ('min_samples_split', 2),\n",
       " ('min_weight_fraction_leaf', 0.0),\n",
       " ('n_classes_', 2),\n",
       " ('n_estimators', 5),\n",
       " ('n_features_', 6401),\n",
       " ('n_features_in_', 6401),\n",
       " ('n_jobs', None),\n",
       " ('n_outputs_', 1),\n",
       " ('oob_score', False),\n",
       " ('predict',\n",
       "  <bound method ForestClassifier.predict of RandomForestClassifier(max_depth=2, n_estimators=5)>),\n",
       " ('predict_log_proba',\n",
       "  <bound method ForestClassifier.predict_log_proba of RandomForestClassifier(max_depth=2, n_estimators=5)>),\n",
       " ('predict_proba',\n",
       "  <bound method ForestClassifier.predict_proba of RandomForestClassifier(max_depth=2, n_estimators=5)>),\n",
       " ('random_state', None),\n",
       " ('score',\n",
       "  <bound method ClassifierMixin.score of RandomForestClassifier(max_depth=2, n_estimators=5)>),\n",
       " ('set_params',\n",
       "  <bound method BaseEstimator.set_params of RandomForestClassifier(max_depth=2, n_estimators=5)>),\n",
       " ('verbose', 0),\n",
       " ('warm_start', False)]"
      ]
     },
     "execution_count": 87,
     "metadata": {},
     "output_type": "execute_result"
    }
   ],
   "source": [
    "import inspect\n",
    "inspect.getmembers(trained_model)"
   ]
  },
  {
   "cell_type": "code",
   "execution_count": 67,
   "metadata": {},
   "outputs": [
    {
     "ename": "NameError",
     "evalue": "name 'hello' is not defined",
     "output_type": "error",
     "traceback": [
      "\u001b[0;31m---------------------------------------------------------------------------\u001b[0m",
      "\u001b[0;31mNameError\u001b[0m                                 Traceback (most recent call last)",
      "\u001b[0;32m<ipython-input-67-d032deb61d8a>\u001b[0m in \u001b[0;36m<module>\u001b[0;34m\u001b[0m\n\u001b[0;32m----> 1\u001b[0;31m \u001b[0mf\u001b[0m \u001b[0;34m=\u001b[0m \u001b[0meval\u001b[0m\u001b[0;34m(\u001b[0m\u001b[0mhey\u001b[0m\u001b[0;34m)\u001b[0m\u001b[0;34m\u001b[0m\u001b[0;34m\u001b[0m\u001b[0m\n\u001b[0m\u001b[1;32m      2\u001b[0m \u001b[0mf\u001b[0m\u001b[0;34m(\u001b[0m\u001b[0;34m)\u001b[0m\u001b[0;34m\u001b[0m\u001b[0;34m\u001b[0m\u001b[0m\n",
      "\u001b[0;32m<string>\u001b[0m in \u001b[0;36m<module>\u001b[0;34m\u001b[0m\n",
      "\u001b[0;31mNameError\u001b[0m: name 'hello' is not defined"
     ]
    }
   ],
   "source": [
    "f = eval(hey)\n",
    "f()"
   ]
  },
  {
   "cell_type": "code",
   "execution_count": 64,
   "metadata": {},
   "outputs": [
    {
     "data": {
      "text/plain": [
       "False"
      ]
     },
     "execution_count": 64,
     "metadata": {},
     "output_type": "execute_result"
    }
   ],
   "source": [
    "callable(hey)"
   ]
  },
  {
   "cell_type": "code",
   "execution_count": null,
   "metadata": {},
   "outputs": [],
   "source": []
  }
 ],
 "metadata": {
  "kernelspec": {
   "display_name": "Python 3",
   "language": "python",
   "name": "python3"
  },
  "language_info": {
   "codemirror_mode": {
    "name": "ipython",
    "version": 3
   },
   "file_extension": ".py",
   "mimetype": "text/x-python",
   "name": "python",
   "nbconvert_exporter": "python",
   "pygments_lexer": "ipython3",
   "version": "3.7.9"
  }
 },
 "nbformat": 4,
 "nbformat_minor": 4
}
